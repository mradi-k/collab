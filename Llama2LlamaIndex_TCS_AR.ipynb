{
  "nbformat": 4,
  "nbformat_minor": 0,
  "metadata": {
    "colab": {
      "provenance": [],
      "gpuType": "T4",
      "toc_visible": true,
      "include_colab_link": true
    },
    "kernelspec": {
      "name": "python3",
      "display_name": "Python 3"
    },
    "language_info": {
      "name": "python"
    },
    "accelerator": "GPU"
  },
  "cells": [
    {
      "cell_type": "markdown",
      "metadata": {
        "id": "view-in-github",
        "colab_type": "text"
      },
      "source": [
        "<a href=\"https://colab.research.google.com/github/mradi-k/collab/blob/main/Llama2LlamaIndex_TCS_AR.ipynb\" target=\"_parent\"><img src=\"https://colab.research.google.com/assets/colab-badge.svg\" alt=\"Open In Colab\"/></a>"
      ]
    },
    {
      "cell_type": "code",
      "execution_count": null,
      "metadata": {
        "id": "q9efInp3Wlup"
      },
      "outputs": [],
      "source": [
        "!pip install pypdf\n",
        "!pip install python-dotenv"
      ]
    },
    {
      "cell_type": "code",
      "source": [
        "!pip install -q transformers einops accelerate langchain bitsandbytes"
      ],
      "metadata": {
        "id": "-wFP3ngwWwLo"
      },
      "execution_count": null,
      "outputs": []
    },
    {
      "cell_type": "code",
      "source": [
        "!pip install sentence_transformers"
      ],
      "metadata": {
        "id": "KiRYz1k0c3B-"
      },
      "execution_count": null,
      "outputs": []
    },
    {
      "cell_type": "code",
      "source": [
        "!pip install llama-index\n"
      ],
      "metadata": {
        "id": "OxTtFeeUW5WJ"
      },
      "execution_count": null,
      "outputs": []
    },
    {
      "cell_type": "code",
      "source": [
        "import logging\n",
        "import sys\n",
        "\n",
        "logging.basicConfig(stream=sys.stdout, level=logging.INFO)\n",
        "logging.getLogger().addHandler(logging.StreamHandler(stream=sys.stdout))\n",
        "\n",
        "from llama_index import VectorStoreIndex, SimpleDirectoryReader, ServiceContext\n",
        "from llama_index.llms import HuggingFaceLLM"
      ],
      "metadata": {
        "id": "lkHavErBXChp"
      },
      "execution_count": null,
      "outputs": []
    },
    {
      "cell_type": "code",
      "source": [
        "documents = SimpleDirectoryReader(\"/content/\").load_data()"
      ],
      "metadata": {
        "id": "COxp34FqXMih"
      },
      "execution_count": null,
      "outputs": []
    },
    {
      "cell_type": "code",
      "source": [
        "\n",
        "from llama_index.prompts.prompts import SimpleInputPrompt\n",
        "\n",
        "\n",
        "system_prompt = \"You are a Q&A assistant with good understanding in the Balance Sheet, Finance Matters and Company Audit Report. Your goal is to answer questions as accurately as possible based on the instructions and context provided.\"\n",
        "\n",
        "\n",
        "\n",
        "# This will wrap the default prompts that are internal to llama-index\n",
        "query_wrapper_prompt = SimpleInputPrompt(\"<|USER|>{query_str}<|ASSISTANT|>\")"
      ],
      "metadata": {
        "id": "KYmJUF8TXc-y"
      },
      "execution_count": null,
      "outputs": []
    },
    {
      "cell_type": "code",
      "source": [
        "!huggingface-cli login"
      ],
      "metadata": {
        "id": "r1BGUftGYp71"
      },
      "execution_count": null,
      "outputs": []
    },
    {
      "cell_type": "code",
      "source": [
        "import torch\n",
        "\n",
        "llm = HuggingFaceLLM(\n",
        "    context_window=4096,\n",
        "    max_new_tokens=256,\n",
        "    generate_kwargs={\"temperature\": 0.0, \"do_sample\": False},\n",
        "    system_prompt=system_prompt,\n",
        "    query_wrapper_prompt=query_wrapper_prompt,\n",
        "    tokenizer_name=\"meta-llama/Llama-2-7b-chat-hf\",\n",
        "    model_name=\"meta-llama/Llama-2-7b-chat-hf\",\n",
        "    device_map=\"auto\",\n",
        "    # uncomment this if using CUDA to reduce memory usage\n",
        "    model_kwargs={\"torch_dtype\": torch.float16 , \"load_in_8bit\":True}\n",
        ")"
      ],
      "metadata": {
        "id": "BhyzesSOYuRf"
      },
      "execution_count": null,
      "outputs": []
    },
    {
      "cell_type": "code",
      "source": [
        "from langchain.embeddings.huggingface import HuggingFaceEmbeddings\n",
        "from llama_index import LangchainEmbedding, ServiceContext\n",
        "\n",
        "embed_model = LangchainEmbedding(\n",
        "  HuggingFaceEmbeddings(model_name=\"sentence-transformers/all-mpnet-base-v2\")\n",
        ")\n"
      ],
      "metadata": {
        "id": "6mT0mMqtctGl"
      },
      "execution_count": null,
      "outputs": []
    },
    {
      "cell_type": "code",
      "source": [
        "service_context = ServiceContext.from_defaults(\n",
        "    chunk_size=1024,\n",
        "    llm=llm,\n",
        "    embed_model=embed_model\n",
        ")"
      ],
      "metadata": {
        "id": "EqUPeKH6crpM",
        "outputId": "651b7138-3b80-478f-c853-578fca2d2c6a",
        "colab": {
          "base_uri": "https://localhost:8080/"
        }
      },
      "execution_count": null,
      "outputs": [
        {
          "output_type": "stream",
          "name": "stderr",
          "text": [
            "[nltk_data] Downloading package punkt to /tmp/llama_index...\n",
            "[nltk_data]   Unzipping tokenizers/punkt.zip.\n"
          ]
        }
      ]
    },
    {
      "cell_type": "code",
      "source": [
        "index = VectorStoreIndex.from_documents(documents, service_context=service_context)"
      ],
      "metadata": {
        "id": "bwGjWnoNai9y"
      },
      "execution_count": null,
      "outputs": []
    },
    {
      "cell_type": "code",
      "source": [
        "query_engine = index.as_query_engine()\n",
        "response = query_engine.query(\"What are the Property, plant and equipment expences in Standalone Balancesheet in all available financial years\")"
      ],
      "metadata": {
        "id": "P738v53ganSZ"
      },
      "execution_count": null,
      "outputs": []
    },
    {
      "cell_type": "code",
      "source": [
        "print(response)"
      ],
      "metadata": {
        "colab": {
          "base_uri": "https://localhost:8080/"
        },
        "id": "L1-T4aVNdSn9",
        "outputId": "7b995333-68c3-4def-cd94-ea78ca2bea03"
      },
      "execution_count": null,
      "outputs": [
        {
          "output_type": "stream",
          "name": "stdout",
          "text": [
            "Thank you for asking! Based on the context information provided, the Property, plant and equipment expenses in the Standalone Balance Sheet for the available financial years are as follows:\n",
            "As at March 31, 2022: `3,233 crore\n",
            "As at March 31, 2021: `2,864 crore\n",
            "\n",
            "Please note that the expenses may vary based on the actual financial statements and other factors. If you have any further questions or concerns, feel free to ask!\n"
          ]
        }
      ]
    },
    {
      "cell_type": "code",
      "source": [
        "while True:\n",
        "  query=input()\n",
        "  response = query_engine.query(query)\n",
        "  print(response)"
      ],
      "metadata": {
        "colab": {
          "base_uri": "https://localhost:8080/"
        },
        "id": "Gh3JY0D6hAiB",
        "outputId": "4fb2ed5e-bf50-432c-a3e8-565716b3ba38"
      },
      "execution_count": null,
      "outputs": [
        {
          "name": "stdout",
          "output_type": "stream",
          "text": [
            "What is the total annual sales numbers \n",
            "The total annual sales numbers for the company are not provided in the given context. The information provided only includes revenue from operations, revenue by geographic segments, employee cost, other operating cost, total cost (excluding interest & depreciation), profitability, financial position, and earnings per share. Therefore, I cannot provide the total annual sales numbers for the company.\n",
            "who is Ameet Parse\n",
            "Ameet Parse is the CEO of the company.\n",
            "Ameet Parse is CEO of Which Company\n",
            "Based on the information provided in the context, the CEO of Tata Consultancy Services Limited is Ameet Parikh.\n",
            "What are the highlights of the Annual Report\n",
            "Thank you for asking! Based on the context information provided, the highlights of the Annual Report are:\n",
            "Material Topics:\n",
            "1. Economic performance\n",
            "2. Demand sustainability\n",
            "3. New Organization Structure\n",
            "4. Business outlook\n",
            "5. Investments in capability development\n",
            "6. Enabling investments\n",
            "7. Intellectual Capital\n",
            "\n",
            "Key Concerns:\n",
            "\n",
            "1. Economic performance\n",
            "2. Demand sustainability\n",
            "3. New Organization Structure\n",
            "4. Business outlook\n",
            "\n",
            "Boundary of impact:\n",
            "\n",
            "1. Economic performance\n",
            "2. Demand sustainability\n",
            "3. New Organization Structure\n",
            "4. Business outlook\n",
            "\n",
            "TCS Approach:\n",
            "\n",
            "1. Integrated Annual Report 2021-22\n",
            "2. Identification of material topics\n",
            "3. Key Concerns\n",
            "4. Boundary of impact\n",
            "\n",
            "GRI Indicators:\n",
            "\n",
            "1. Governance Structure and composition\n",
            "2. Independence of the Board and Minority Interest\n",
            "3. Avoidance of conflict of interest\n",
            "4. Board oversight\n",
            "5. Disclosure and Transparency\n",
            "6\n",
            "Share more details on the Balance Sheet \n",
            "Thank you for asking! The Balance Sheet provides a snapshot of a company's financial position at a specific point in time. It lists the company's assets, liabilities, and equity.\n",
            "Based on the context information provided, the Balance Sheet for the year ending March 31, 2022, shows the following:\n",
            "Non-current assets:\n",
            "* Property, plant, and equipment: `9,669`\n",
            "* Capital work-in-progress: `1,146`\n",
            "* Right-of-use assets: `5,837`\n",
            "* Intangible assets: `1,018`\n",
            "* Financial assets:\n",
            "* Investments: `29,262`\n",
            "* Trade receivables: `90`\n",
            "* Unbilled trade receivables: `53`\n",
            "* Loans: `8`\n",
            "Other non-current assets: `1,797`\n",
            "Total non-current assets: `27,071` (` crore)\n",
            "Current assets:\n",
            "* Inventories: `19`\n",
            "* Financial assets:\n",
            "* Investments\n",
            "Share more details on the Investments made \n",
            "Thank you for reaching out! I'm happy to help you with your question. However, I noticed that the context information provided does not contain any details on the investments made. Could you please provide more context or clarify which investments you are referring to? I'll do my best to assist you once I have more information.\n",
            "Share more details on the Investments  from Balance sheet \n"
          ]
        }
      ]
    },
    {
      "cell_type": "code",
      "source": [],
      "metadata": {
        "id": "jbikmS8ulJ91"
      },
      "execution_count": null,
      "outputs": []
    }
  ]
}